{
 "cells": [
  {
   "cell_type": "code",
   "execution_count": 9,
   "id": "8b6a7b1a-3ff5-4b22-be3e-d3b2d7aa7e3a",
   "metadata": {},
   "outputs": [],
   "source": [
    "class a :\n",
    "    \n",
    "    def test(self):\n",
    "        print(\"this test method is a part of class a\")\n",
    "        \n",
    "    def test1(self):\n",
    "        print(\"this is test1 from class a \")"
   ]
  },
  {
   "cell_type": "code",
   "execution_count": 10,
   "id": "8e4d306f-fdb4-47a0-a93d-597f5b21d30b",
   "metadata": {},
   "outputs": [],
   "source": [
    "obj_a = a()"
   ]
  },
  {
   "cell_type": "code",
   "execution_count": 11,
   "id": "81ef5597-cf96-4ed9-a4f6-21e2e93aca70",
   "metadata": {},
   "outputs": [
    {
     "name": "stdout",
     "output_type": "stream",
     "text": [
      "this test method is a part of class a\n"
     ]
    }
   ],
   "source": [
    "obj_a.test()"
   ]
  },
  {
   "cell_type": "code",
   "execution_count": 16,
   "id": "11ee63d6-433d-48dc-ada0-5dd6771310ba",
   "metadata": {},
   "outputs": [],
   "source": [
    "class b(a) :\n",
    "    def test1b(self):\n",
    "        print(\"this is a part of class b \")"
   ]
  },
  {
   "cell_type": "code",
   "execution_count": 17,
   "id": "badaedfe-57d1-43c6-9193-e5afb0f31dbc",
   "metadata": {},
   "outputs": [],
   "source": [
    "obj_b = b()"
   ]
  },
  {
   "cell_type": "code",
   "execution_count": 18,
   "id": "3ce19f61-ba8e-4050-9d4d-614adfd964c5",
   "metadata": {},
   "outputs": [
    {
     "name": "stdout",
     "output_type": "stream",
     "text": [
      "this test method is a part of class a\n"
     ]
    }
   ],
   "source": [
    "obj_b.test()"
   ]
  },
  {
   "cell_type": "code",
   "execution_count": 19,
   "id": "5e473fae-e094-4407-99df-16a04ab4c80a",
   "metadata": {},
   "outputs": [
    {
     "name": "stdout",
     "output_type": "stream",
     "text": [
      "this is test1 from class a \n"
     ]
    }
   ],
   "source": [
    "obj_b.test1()"
   ]
  },
  {
   "cell_type": "code",
   "execution_count": null,
   "id": "02a8f055-535f-4bc2-adc1-575445f82570",
   "metadata": {},
   "outputs": [],
   "source": [
    "obj_b."
   ]
  },
  {
   "cell_type": "code",
   "execution_count": 21,
   "id": "59361cd3-c0c4-4ddd-abac-cbe3275ade5f",
   "metadata": {},
   "outputs": [],
   "source": [
    "class lecture:\n",
    "    \n",
    "    def topic(self):\n",
    "        print(\"todays class we are discussing about inheritance condept in oops\")\n",
    "        \n",
    "    def timing(self):\n",
    "        print(\"timing for todays class is 9 AM IST\")\n",
    "        \n",
    "    def end_time(self):\n",
    "        print(\"today i will try to end class bit early\")"
   ]
  },
  {
   "cell_type": "code",
   "execution_count": 23,
   "id": "6e3dd2de-883e-4e9e-98a0-4a7089af1627",
   "metadata": {},
   "outputs": [],
   "source": [
    "class student(lecture):\n",
    "    \n",
    "    def student_details(self):\n",
    "        print(\"this class will give you a student details\")"
   ]
  },
  {
   "cell_type": "code",
   "execution_count": 24,
   "id": "c2ad2a89-0f29-4410-86c4-e33f47b4186d",
   "metadata": {},
   "outputs": [],
   "source": [
    "naval = student()"
   ]
  },
  {
   "cell_type": "code",
   "execution_count": 25,
   "id": "38c86e7f-5560-464a-b597-c88a74819f1a",
   "metadata": {},
   "outputs": [
    {
     "name": "stdout",
     "output_type": "stream",
     "text": [
      "todays class we are discussing about inheritance condept in oops\n"
     ]
    }
   ],
   "source": [
    "naval.topic()"
   ]
  },
  {
   "cell_type": "code",
   "execution_count": 26,
   "id": "02efc8a4-f995-4f85-87d2-620ccc0f61fa",
   "metadata": {},
   "outputs": [
    {
     "name": "stdout",
     "output_type": "stream",
     "text": [
      "timing for todays class is 9 AM IST\n"
     ]
    }
   ],
   "source": [
    "satish = student()\n",
    "satish.timing()"
   ]
  },
  {
   "cell_type": "code",
   "execution_count": 28,
   "id": "03932972-a58b-46e5-a3f8-ffc43c84ce53",
   "metadata": {},
   "outputs": [],
   "source": [
    "class teacher(student):\n",
    "    def details(self):\n",
    "        print(\"this will give you a details about teacher\")"
   ]
  },
  {
   "cell_type": "code",
   "execution_count": 29,
   "id": "fff36c1b-f1e9-467e-b29f-c304aa9feec9",
   "metadata": {},
   "outputs": [
    {
     "name": "stdout",
     "output_type": "stream",
     "text": [
      "timing for todays class is 9 AM IST\n"
     ]
    }
   ],
   "source": [
    "sudh = teacher()\n",
    "sudh.timing()"
   ]
  },
  {
   "cell_type": "code",
   "execution_count": 39,
   "id": "a5e8c94b-de62-4ef5-8eba-81259d83dd3d",
   "metadata": {},
   "outputs": [],
   "source": [
    "class lecture:\n",
    "    def topic(self):\n",
    "        print(\"todays class we are discussing about inheritance condept in oops\")\n",
    "        \n",
    "    def timing(self):\n",
    "        print(\"timing for todays class is 9 AM IST\")\n",
    "        \n",
    "    def end_time(self):\n",
    "        print(\"today i will try to end class bit early\")"
   ]
  },
  {
   "cell_type": "code",
   "execution_count": 40,
   "id": "2007141c-1b71-4cd4-9bed-a3cd8d851baa",
   "metadata": {},
   "outputs": [],
   "source": [
    "class student:\n",
    "    \n",
    "    def student_details(self):\n",
    "        print(\"this class will give you a student details\")\n",
    "        \n",
    "    def timing(self):\n",
    "        print(\"this is a timing fun from student class\")\n",
    "        "
   ]
  },
  {
   "cell_type": "code",
   "execution_count": 48,
   "id": "272860d3-1fac-475b-8c09-0490069224bc",
   "metadata": {},
   "outputs": [],
   "source": [
    "class teacher(lecture,student):\n",
    "    def details(self):\n",
    "        print(\"this will give you a details about teacher\")"
   ]
  },
  {
   "cell_type": "code",
   "execution_count": 49,
   "id": "f4a9ae16-f0e3-4a4a-a003-38773611cd2a",
   "metadata": {},
   "outputs": [],
   "source": [
    "krish = teacher()"
   ]
  },
  {
   "cell_type": "code",
   "execution_count": 50,
   "id": "6dc85f37-219e-4c72-927c-9aebb550fea9",
   "metadata": {},
   "outputs": [
    {
     "name": "stdout",
     "output_type": "stream",
     "text": [
      "timing for todays class is 9 AM IST\n"
     ]
    }
   ],
   "source": [
    "krish.timing()"
   ]
  },
  {
   "cell_type": "code",
   "execution_count": 37,
   "id": "8bcbac88-9172-4a31-a191-9c4b9a1c6eac",
   "metadata": {},
   "outputs": [
    {
     "name": "stdout",
     "output_type": "stream",
     "text": [
      "this class will give you a student details\n"
     ]
    }
   ],
   "source": [
    "krish.student_details()"
   ]
  },
  {
   "cell_type": "markdown",
   "id": "86b47d4f-860e-4702-83a0-0145887ab41a",
   "metadata": {},
   "source": [
    "Problem 1: Bank Account Create a class representing a bank account with attributes like account number, account holder name, and balance. Implement methods to deposit and withdraw money from the account.\n",
    "\n",
    "Problem 2: Employee Management Create a class representing an employee with attributes like employee ID, name, and salary. Implement methods to calculate the yearly bonus and display employee details.\n",
    "\n",
    "Problem 3: Vehicle Rental Create a class representing a vehicle rental system. Implement methods to rent a vehicle, return a vehicle, and display available vehicles.\n",
    "\n",
    "Problem 4: Library Catalog Create classes representing a library and a book. Implement methods to add books to the library, borrow books, and display available books.\n",
    "\n",
    "Problem 5: Product Inventory Create classes representing a product and an inventory system. Implement methods to add products to the inventory, update product quantity, and display available products.\n",
    "\n",
    "Problem 6: Shape Calculation Create a class representing a shape with attributes like length, width, and height. Implement methods to calculate the area and perimeter of the shape.\n",
    "\n",
    "Problem 7: Student Management Create a class representing a student with attributes like student ID, name, and grades. Implement methods to calculate the average grade and display student details.\n",
    "\n",
    "Problem 8: Email Management Create a class representing an email with attributes like sender, recipient, and subject. Implement methods to send an email and display email details.\n",
    "\n",
    "Problem 9: Social Media Profile Create a class representing a social media profile with attributes like username and posts. Implement methods to add posts, display posts, and search for posts by keyword.\n",
    "\n",
    "Problem 10: ToDo List Create a class representing a ToDo list with attributes like tasks and due dates. Implement methods to add tasks, mark tasks as completed, and display pending tasks."
   ]
  },
  {
   "cell_type": "code",
   "execution_count": 1,
   "id": "fef1683a-faa4-4d27-a0a6-7a742e512e9b",
   "metadata": {},
   "outputs": [],
   "source": [
    "#Problem 1: Bank Account Create a class representing a bank account with attributes like account number, account holder name, and balance. Implement methods to deposit and withdraw money from the account.\n",
    "class BankAccount:\n",
    "    def __init__(self, account_number, account_holder_name, balance=0.0):\n",
    "        self.account_number = account_number\n",
    "        self.account_holder_name = account_holder_name\n",
    "        self.balance = balance\n",
    "    \n",
    "    def deposit(self, amount):\n",
    "        if amount > 0:\n",
    "            self.balance += amount\n",
    "            return f\"Deposited ${amount}. New balance: ${self.balance}\"\n",
    "        return \"Invalid deposit amount\"\n",
    "    \n",
    "    def withdraw(self, amount):\n",
    "        if 0 < amount <= self.balance:\n",
    "            self.balance -= amount\n",
    "            return f\"Withdrew ${amount}. New balance: ${self.balance}\"\n",
    "        return \"Insufficient funds or invalid amount\"\n",
    "    \n",
    "    def __str__(self):\n",
    "        return f\"Account {self.account_number} - {self.account_holder_name}, Balance: ${self.balance}\""
   ]
  },
  {
   "cell_type": "code",
   "execution_count": 3,
   "id": "067fb007",
   "metadata": {},
   "outputs": [],
   "source": [
    "#Problem-2\n",
    "class Employee:\n",
    "    def __init__(self, employee_id, name, salary):\n",
    "        self.employee_id = employee_id\n",
    "        self.name = name\n",
    "        self.salary = salary\n",
    "    \n",
    "    def calculate_yearly_bonus(self, bonus_percentage):\n",
    "        return self.salary * bonus_percentage / 100\n",
    "    \n",
    "    def display_details(self):\n",
    "        return f\"ID: {self.employee_id}, Name: {self.name}, Salary: ${self.salary}\""
   ]
  },
  {
   "cell_type": "code",
   "execution_count": 4,
   "id": "c1229a61",
   "metadata": {},
   "outputs": [],
   "source": [
    "#Problem 3\n",
    "class VehicleRentalSystem:\n",
    "    def __init__(self):\n",
    "        self.available_vehicles = {}\n",
    "        self.rented_vehicles = {}\n",
    "    \n",
    "    def add_vehicle(self, vehicle_id, vehicle_type):\n",
    "        self.available_vehicles[vehicle_id] = vehicle_type\n",
    "    \n",
    "    def rent_vehicle(self, vehicle_id, renter_name):\n",
    "        if vehicle_id in self.available_vehicles:\n",
    "            vehicle_type = self.available_vehicles.pop(vehicle_id)\n",
    "            self.rented_vehicles[vehicle_id] = (vehicle_type, renter_name)\n",
    "            return f\"{vehicle_type} (ID: {vehicle_id}) rented by {renter_name}\"\n",
    "        return \"Vehicle not available\"\n",
    "    \n",
    "    def return_vehicle(self, vehicle_id):\n",
    "        if vehicle_id in self.rented_vehicles:\n",
    "            vehicle_type, _ = self.rented_vehicles.pop(vehicle_id)\n",
    "            self.available_vehicles[vehicle_id] = vehicle_type\n",
    "            return f\"{vehicle_type} (ID: {vehicle_id}) returned\"\n",
    "        return \"Vehicle not rented\"\n",
    "    \n",
    "    def display_available_vehicles(self):\n",
    "        return \"\\n\".join(f\"{vid}: {vtype}\" for vid, vtype in self.available_vehicles.items()) or \"No vehicles available\""
   ]
  },
  {
   "cell_type": "code",
   "execution_count": 5,
   "id": "98f78bd3",
   "metadata": {},
   "outputs": [],
   "source": [
    "#Problem 4\n",
    "class Book:\n",
    "    def __init__(self, title, author, isbn):\n",
    "        self.title = title\n",
    "        self.author = author\n",
    "        self.isbn = isbn\n",
    "        self.is_borrowed = False\n",
    "    \n",
    "    def __str__(self):\n",
    "        status = \"Borrowed\" if self.is_borrowed else \"Available\"\n",
    "        return f\"'{self.title}' by {self.author} (ISBN: {self.isbn}) - {status}\"\n",
    "\n",
    "class Library:\n",
    "    def __init__(self):\n",
    "        self.books = []\n",
    "    \n",
    "    def add_book(self, book):\n",
    "        self.books.append(book)\n",
    "    \n",
    "    def borrow_book(self, isbn):\n",
    "        for book in self.books:\n",
    "            if book.isbn == isbn and not book.is_borrowed:\n",
    "                book.is_borrowed = True\n",
    "                return f\"Borrowed: {book.title}\"\n",
    "        return \"Book not available\"\n",
    "    \n",
    "    def return_book(self, isbn):\n",
    "        for book in self.books:\n",
    "            if book.isbn == isbn and book.is_borrowed:\n",
    "                book.is_borrowed = False\n",
    "                return f\"Returned: {book.title}\"\n",
    "        return \"Book not found or not borrowed\"\n",
    "    \n",
    "    def display_available_books(self):\n",
    "        return \"\\n\".join(str(book) for book in self.books if not book.is_borrowed) or \"No books available\""
   ]
  },
  {
   "cell_type": "code",
   "execution_count": 6,
   "id": "835adc14",
   "metadata": {},
   "outputs": [],
   "source": [
    "#Problem 5\n",
    "class Product:\n",
    "    def __init__(self, product_id, name, price, quantity):\n",
    "        self.product_id = product_id\n",
    "        self.name = name\n",
    "        self.price = price\n",
    "        self.quantity = quantity\n",
    "    \n",
    "    def __str__(self):\n",
    "        return f\"{self.product_id}: {self.name} - ${self.price} (Qty: {self.quantity})\"\n",
    "\n",
    "class Inventory:\n",
    "    def __init__(self):\n",
    "        self.products = {}\n",
    "    \n",
    "    def add_product(self, product):\n",
    "        self.products[product.product_id] = product\n",
    "    \n",
    "    def update_quantity(self, product_id, quantity_change):\n",
    "        if product_id in self.products:\n",
    "            self.products[product_id].quantity += quantity_change\n",
    "            return f\"Updated {self.products[product_id].name} quantity to {self.products[product_id].quantity}\"\n",
    "        return \"Product not found\"\n",
    "    \n",
    "    def display_products(self):\n",
    "        return \"\\n\".join(str(product) for product in self.products.values()) or \"Inventory is empty\""
   ]
  },
  {
   "cell_type": "code",
   "execution_count": 7,
   "id": "00e5496b",
   "metadata": {},
   "outputs": [],
   "source": [
    "#Problem 6\n",
    "class Shape:\n",
    "    def __init__(self, length=0, width=0, height=0):\n",
    "        self.length = length\n",
    "        self.width = width\n",
    "        self.height = height\n",
    "    \n",
    "    def area(self):\n",
    "        if self.height == 0:  # Rectangle\n",
    "            return self.length * self.width\n",
    "        else:  # Rectangular prism\n",
    "            return 2 * (self.length*self.width + self.length*self.height + self.width*self.height)\n",
    "    \n",
    "    def perimeter(self):\n",
    "        if self.height == 0:  # Rectangle\n",
    "            return 2 * (self.length + self.width)\n",
    "        else:  # Rectangular prism\n",
    "            return 4 * (self.length + self.width + self.height)"
   ]
  },
  {
   "cell_type": "code",
   "execution_count": 9,
   "id": "a22d2e0e",
   "metadata": {},
   "outputs": [],
   "source": [
    "#Problem 7\n",
    "class Student:\n",
    "    def __init__(self, student_id, name):\n",
    "        self.student_id = student_id\n",
    "        self.name = name\n",
    "        self.grades = []\n",
    "    \n",
    "    def add_grade(self, grade):\n",
    "        self.grades.append(grade)\n",
    "    \n",
    "    def average_grade(self):\n",
    "        return sum(self.grades) / len(self.grades) if self.grades else 0\n",
    "    \n",
    "    def display_details(self):\n",
    "        avg = self.average_grade()\n",
    "        grades_str = \", \".join(map(str, self.grades))\n",
    "        return f\"ID: {self.student_id}, Name: {self.name}, Grades: [{grades_str}], Average: {avg:.2f}\""
   ]
  },
  {
   "cell_type": "code",
   "execution_count": 10,
   "id": "4b3a3424",
   "metadata": {},
   "outputs": [],
   "source": [
    "#Problem 8\n",
    "class Email:\n",
    "    def __init__(self, sender, recipient, subject, message):\n",
    "        self.sender = sender\n",
    "        self.recipient = recipient\n",
    "        self.subject = subject\n",
    "        self.message = message\n",
    "        self.is_sent = False\n",
    "    \n",
    "    def send_email(self):\n",
    "        self.is_sent = True\n",
    "        return f\"Email sent from {self.sender} to {self.recipient}\"\n",
    "    \n",
    "    def display_details(self):\n",
    "        status = \"Sent\" if self.is_sent else \"Draft\"\n",
    "        return f\"From: {self.sender}\\nTo: {self.recipient}\\nSubject: {self.subject}\\nStatus: {status}\\nMessage: {self.message}\""
   ]
  },
  {
   "cell_type": "code",
   "execution_count": 11,
   "id": "50871529",
   "metadata": {},
   "outputs": [],
   "source": [
    "#Problem 9\n",
    "class SocialMediaProfile:\n",
    "    def __init__(self, username):\n",
    "        self.username = username\n",
    "        self.posts = []\n",
    "    \n",
    "    def add_post(self, content):\n",
    "        self.posts.append(content)\n",
    "    \n",
    "    def display_posts(self):\n",
    "        return \"\\n\".join(f\"Post {i+1}: {post}\" for i, post in enumerate(self.posts)) or \"No posts yet\"\n",
    "    \n",
    "    def search_posts(self, keyword):\n",
    "        return [post for post in self.posts if keyword.lower() in post.lower()]"
   ]
  },
  {
   "cell_type": "code",
   "execution_count": 12,
   "id": "4abc5db5",
   "metadata": {},
   "outputs": [],
   "source": [
    "#Problem 10\n",
    "class ToDoList:\n",
    "    def __init__(self):\n",
    "        self.tasks = []\n",
    "    \n",
    "    def add_task(self, task, due_date):\n",
    "        self.tasks.append({\"task\": task, \"due_date\": due_date, \"completed\": False})\n",
    "    \n",
    "    def mark_completed(self, task_index):\n",
    "        if 0 <= task_index < len(self.tasks):\n",
    "            self.tasks[task_index][\"completed\"] = True\n",
    "            return f\"Task '{self.tasks[task_index]['task']}' marked as completed\"\n",
    "        return \"Invalid task index\"\n",
    "    \n",
    "    def display_pending_tasks(self):\n",
    "        pending = [task for task in self.tasks if not task[\"completed\"]]\n",
    "        if not pending:\n",
    "            return \"No pending tasks\"\n",
    "        return \"\\n\".join(f\"{i}. {t['task']} (Due: {t['due_date']})\" for i, t in enumerate(pending, 1))"
   ]
  }
 ],
 "metadata": {
  "kernelspec": {
   "display_name": "Python 3",
   "language": "python",
   "name": "python3"
  },
  "language_info": {
   "codemirror_mode": {
    "name": "ipython",
    "version": 3
   },
   "file_extension": ".py",
   "mimetype": "text/x-python",
   "name": "python",
   "nbconvert_exporter": "python",
   "pygments_lexer": "ipython3",
   "version": "3.12.4"
  }
 },
 "nbformat": 4,
 "nbformat_minor": 5
}
