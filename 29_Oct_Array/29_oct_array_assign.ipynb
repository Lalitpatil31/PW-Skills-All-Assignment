{
  "cells": [
    {
      "cell_type": "markdown",
      "source": [
        "# Array\n",
        "1. Given an array, check if it contains any duplicates or not.\n",
        "arr = [1, 2, 4, 2, 5, 9]\n",
        "Output = True\n",
        "\n",
        "2. Given an array and an integer k, rotate the array to the right by k steps.\n",
        "arr = [1, 2, 3, 4, 5, 6, 7] k = 3\n",
        "Output = [5, 6, 7, 1, 2, 3, 4]\n",
        "\n",
        "3. Reverse the given array in-place, means without using any extra data structure.\n",
        "arr = [2, 4, 5, 7, 9, 12]\n",
        "Output = [12, 9, 7, 5, 4, 2]\n",
        "\n",
        "4. Given an array of integers, find the maximum element in an array\n",
        "arr = [10, 5, 20, 8, 15]\n",
        "Output = 20\n",
        "\n",
        "5. Given a sorted array, remove the duplicate element without using any extra data structure.\n",
        "arr = [1, 1, 2, 2, 2, 3, 3, 4, 4, 4, 5, 5]\n",
        "Output = [1, 2, 3, 4, 5]"
      ],
      "metadata": {
        "id": "xEapaNgGHfIp"
      }
    },
    {
      "cell_type": "code",
      "source": [
        "#Q-1)Check for Duplicates in an Array using NumPy\n",
        "\"\"\"Approach:\n",
        "\n",
        "Convert the array to a NumPy array.\n",
        "\n",
        "Compare the length of the array with the length of the unique elements in the array using np.unique().\n",
        "\n",
        "If the lengths are different, there are duplicates.\n",
        "\"\"\"\n",
        "import numpy as np\n",
        "\n",
        "def contains_duplicate(arr):\n",
        "    np_arr = np.array(arr)\n",
        "    return len(np_arr) != len(np.unique(np_arr))\n",
        "\n",
        "arr = [1, 2, 4, 2, 5, 9]\n",
        "print(contains_duplicate(arr))  # Output: True\n",
        "\"\"\"Explanation:\n",
        "\n",
        "np.unique() returns the sorted unique elements of the array.\n",
        "\n",
        "If the length of the original array is not equal to the length of the unique array, it means there are duplicates.\n",
        "\"\"\""
      ],
      "metadata": {
        "id": "dygblHJAFx5-",
        "outputId": "4fd10953-ec1b-4253-ff7f-7601d99c4862",
        "colab": {
          "base_uri": "https://localhost:8080/",
          "height": 70
        }
      },
      "execution_count": 1,
      "outputs": [
        {
          "output_type": "stream",
          "name": "stdout",
          "text": [
            "True\n"
          ]
        },
        {
          "output_type": "execute_result",
          "data": {
            "text/plain": [
              "'Explanation:\\n\\nnp.unique() returns the sorted unique elements of the array.\\n\\nIf the length of the original array is not equal to the length of the unique array, it means there are duplicates.\\n'"
            ],
            "application/vnd.google.colaboratory.intrinsic+json": {
              "type": "string"
            }
          },
          "metadata": {},
          "execution_count": 1
        }
      ]
    },
    {
      "cell_type": "code",
      "source": [
        "#Q-2. Rotate Array to the Right by k Steps using NumPy\n",
        "\"\"\"Approach:\n",
        "\n",
        "Convert the array to a NumPy array.\n",
        "\n",
        "Use np.roll() to rotate the array by k steps to the right.\n",
        "\"\"\"\n",
        "def rotate_array(arr, k):\n",
        "    np_arr = np.array(arr)\n",
        "    return np.roll(np_arr, k).tolist()\n",
        "\n",
        "arr = [1, 2, 3, 4, 5, 6, 7]\n",
        "k = 3\n",
        "print(rotate_array(arr, k))  # Output: [5, 6, 7, 1, 2, 3, 4]\n",
        "\"\"\"Explanation:\n",
        "\n",
        "np.roll() shifts the elements of the array to the right by k positions, with the elements that fall off reappearing at the beginning.\n",
        "\"\"\"\n"
      ],
      "metadata": {
        "id": "ZFi3UsXcGIi6",
        "outputId": "65c08747-e6dc-4986-a7d3-15a710a8a245",
        "colab": {
          "base_uri": "https://localhost:8080/",
          "height": 70
        }
      },
      "execution_count": 2,
      "outputs": [
        {
          "output_type": "stream",
          "name": "stdout",
          "text": [
            "[5, 6, 7, 1, 2, 3, 4]\n"
          ]
        },
        {
          "output_type": "execute_result",
          "data": {
            "text/plain": [
              "'Explanation:\\n\\nnp.roll() shifts the elements of the array to the right by k positions, with the elements that fall off reappearing at the beginning.\\n'"
            ],
            "application/vnd.google.colaboratory.intrinsic+json": {
              "type": "string"
            }
          },
          "metadata": {},
          "execution_count": 2
        }
      ]
    },
    {
      "cell_type": "code",
      "source": [
        "#Q-3. Reverse the Array In-Place using NumPy\n",
        "\"\"\"Approach:\n",
        "\n",
        "Convert the array to a NumPy array.\n",
        "\n",
        "Use slicing to reverse the array: arr[::-1].\n",
        "\"\"\"\n",
        "def reverse_array_in_place(arr):\n",
        "    np_arr = np.array(arr)\n",
        "    return np_arr[::-1].tolist()\n",
        "\n",
        "arr = [2, 4, 5, 7, 9, 12]\n",
        "print(reverse_array_in_place(arr))  # Output: [12, 9, 7, 5, 4, 2]\n",
        "\"\"\"Explanation:\n",
        "\n",
        "arr[::-1] creates a view of the array in reverse order.\n",
        "\"\"\"\n"
      ],
      "metadata": {
        "id": "s9-lG_WcHOlg",
        "outputId": "55974cf9-73f2-4063-93ff-fd4c38b99b8c",
        "colab": {
          "base_uri": "https://localhost:8080/",
          "height": 52
        }
      },
      "execution_count": 6,
      "outputs": [
        {
          "output_type": "stream",
          "name": "stdout",
          "text": [
            "[12, 9, 7, 5, 4, 2]\n"
          ]
        },
        {
          "output_type": "execute_result",
          "data": {
            "text/plain": [
              "'Explanation:\\n\\narr[::-1] creates a view of the array in reverse order.\\n'"
            ],
            "application/vnd.google.colaboratory.intrinsic+json": {
              "type": "string"
            }
          },
          "metadata": {},
          "execution_count": 6
        }
      ]
    },
    {
      "cell_type": "code",
      "source": [
        "#Q-4. Find the Maximum Element in an Array using NumPy\n",
        "\"\"\"Approach:\n",
        "\n",
        "Convert the array to a NumPy array.\n",
        "\n",
        "Use np.max() to find the maximum element.\n",
        "\"\"\"\n",
        "def find_max(arr):\n",
        "    np_arr = np.array(arr)\n",
        "    return np.max(np_arr)\n",
        "\n",
        "arr = [10, 5, 20, 8, 15]\n",
        "print(find_max(arr))  # Output: 20\n",
        "\"\"\"Explanation:\n",
        "\n",
        "np.max() returns the maximum value in the array.\n",
        "\"\"\"\n"
      ],
      "metadata": {
        "id": "7LRPQtorHX1d",
        "outputId": "d91fdf9e-be57-426f-f46d-3b955d062137",
        "colab": {
          "base_uri": "https://localhost:8080/",
          "height": 52
        }
      },
      "execution_count": 7,
      "outputs": [
        {
          "output_type": "stream",
          "name": "stdout",
          "text": [
            "20\n"
          ]
        },
        {
          "output_type": "execute_result",
          "data": {
            "text/plain": [
              "'Explanation:\\n\\nnp.max() returns the maximum value in the array.\\n'"
            ],
            "application/vnd.google.colaboratory.intrinsic+json": {
              "type": "string"
            }
          },
          "metadata": {},
          "execution_count": 7
        }
      ]
    },
    {
      "cell_type": "code",
      "source": [
        "#Q-5. Remove Duplicates from a Sorted Array In-Place using NumPy\n",
        "\"\"\"Approach:\n",
        "\n",
        "Convert the array to a NumPy array.\n",
        "\n",
        "Use np.unique() to get the unique elements, which are already sorted since the input array is sorted.\n",
        "\"\"\"\n",
        "def remove_duplicates_in_place(arr):\n",
        "    np_arr = np.array(arr)\n",
        "    return np.unique(np_arr).tolist()\n",
        "\n",
        "arr = [1, 1, 2, 2, 2, 3, 3, 4, 4, 4, 5, 5]\n",
        "print(remove_duplicates_in_place(arr))  # Output: [1, 2, 3, 4, 5]\n",
        "\"\"\"Explanation:\n",
        "\n",
        "np.unique() returns the sorted unique elements of the array. Since the input array is already sorted, the output will also be sorted.\n",
        "\"\"\""
      ],
      "metadata": {
        "id": "shVomn7NHQMb",
        "outputId": "f832ab80-b73f-48b6-d286-29f2b8fbc2fc",
        "colab": {
          "base_uri": "https://localhost:8080/",
          "height": 70
        }
      },
      "execution_count": 4,
      "outputs": [
        {
          "output_type": "stream",
          "name": "stdout",
          "text": [
            "[1, 2, 3, 4, 5]\n"
          ]
        },
        {
          "output_type": "execute_result",
          "data": {
            "text/plain": [
              "'Explanation:\\n\\nnp.unique() returns the sorted unique elements of the array. Since the input array is already sorted, the output will also be sorted.\\n'"
            ],
            "application/vnd.google.colaboratory.intrinsic+json": {
              "type": "string"
            }
          },
          "metadata": {},
          "execution_count": 4
        }
      ]
    },
    {
      "cell_type": "markdown",
      "source": [],
      "metadata": {
        "id": "oyiNvPcsHrFz"
      }
    }
  ],
  "metadata": {
    "accelerator": "GPU",
    "colab": {
      "name": "image_classification_from_scratch",
      "provenance": [],
      "toc_visible": true
    },
    "kernelspec": {
      "display_name": "Python 3",
      "language": "python",
      "name": "python3"
    },
    "language_info": {
      "codemirror_mode": {
        "name": "ipython",
        "version": 3
      },
      "file_extension": ".py",
      "mimetype": "text/x-python",
      "name": "python",
      "nbconvert_exporter": "python",
      "pygments_lexer": "ipython3",
      "version": "3.7.0"
    }
  },
  "nbformat": 4,
  "nbformat_minor": 0
}